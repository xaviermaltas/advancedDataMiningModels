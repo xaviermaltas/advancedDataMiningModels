{
 "cells": [
  {
   "cell_type": "markdown",
   "metadata": {
    "id": "hSX-MHVNwzLY"
   },
   "source": [
    "<div style=\"width: 100%; clear: both;\">\n",
    "<div style=\"float: left; width: 50%;\">\n",
    "<img src=\"http://www.uoc.edu/portal/_resources/common/imatges/marca_UOC/UOC_Masterbrand.jpg\" align=\"left\">\n",
    "</div>\n",
    "<div style=\"float: right; width: 50%;\">\n",
    "<p style=\"margin: 0; padding-top: 22px; text-align:right;\">M2.955 · Models avançats de mineria de dades · PAC1</p>\n",
    "<p style=\"margin: 0; text-align:right;\">2022-2 · Màster universitari en Ciència de dades (Data science)</p>\n",
    "<p style=\"margin: 0; text-align:right; padding-button: 100px;\">Estudis d'Informàtica, Multimèdia i Telecomunicació\n",
    "\n",
    " </p>\n",
    "</div>\n",
    "</div>\n",
    "<div style=\"width:100%;\">&nbsp;</div>\n",
    "\n",
    "\n",
    "# PAC 1: Preparació de dades\n",
    "\n",
    "Al llarg d'aquesta pràctica veurem com aplicar diferents tècniques per a la càrrega i preparació de dades:\n",
    "\n",
    " <ol start=\"1\">\n",
    "  <li>Càrrega de conjunts de dades</li>\n",
    "  <li>Anàlisis de les dades\n",
    "  <br>2.1 Anàlisi estadístic bàsic \n",
    "  <br>2.2 Anàlisi exploratori de les dades\n",
    "  <li>Preprocessament de les dades</li>\n",
    "  <li>Reducció de la dimensionalitat</li>\n",
    "  <li>Entrenament i test</li>\n",
    "</ol><br>\n",
    "\n",
    "**Important:** Cada exercici pot suposar diversos minuts d'execució, per aquest motiu l'entrega ha de realitzar-se en format notebook i en format html, on es vegi el codi, els resultats i comentaris de cada exercici. Es pot exportar el notebook a html des del menú File $\\to$ Download as $\\to$ HTML.\n",
    "\n",
    "**Important:** Existeix un tipus de cel·la especial per comentaris de text. Aquest tipus de cel·la us serà molt útil per respondre preguntes teòriques. Per canviar el tipus de cel·la a aquest tipus, al menú: Cell $\\to$ Cell Type $\\to$ Markdown.\n",
    "\n",
    "**Important:** La solució plantejada no ha d'utilitzar mètodes, funcions o paràmetres declarats “deprecated” en futures versions.\n",
    "   \n",
    "Per realitzar aquesta PAC necessitarem les següents llibreries:"
   ]
  },
  {
   "cell_type": "markdown",
   "metadata": {
    "id": "uQ3DblAEwzLb"
   },
   "source": [
    "<div class=\"alert alert-block alert-info\">\n",
    "<strong>Nom i cognoms: XAVIER MALTAS TARRIDAS</strong>\n",
    "</div>"
   ]
  },
  {
   "cell_type": "code",
   "execution_count": null,
   "metadata": {
    "executionInfo": {
     "elapsed": 2,
     "status": "ok",
     "timestamp": 1678992732076,
     "user": {
      "displayName": "Xavier Maltas Tarridas",
      "userId": "13809077335669991027"
     },
     "user_tz": -60
    },
    "id": "G3xxslm-wzLc"
   },
   "outputs": [],
   "source": []
  },
  {
   "cell_type": "code",
   "execution_count": 14,
   "metadata": {
    "executionInfo": {
     "elapsed": 323,
     "status": "ok",
     "timestamp": 1678992767994,
     "user": {
      "displayName": "Xavier Maltas Tarridas",
      "userId": "13809077335669991027"
     },
     "user_tz": -60
    },
    "id": "KeL1_XozwzLc"
   },
   "outputs": [],
   "source": [
    "import numpy as np\n",
    "import pandas as pd\n",
    "import seaborn as sns\n",
    "from sklearn import datasets\n",
    "from sklearn import preprocessing\n",
    "from sklearn.manifold import TSNE\n",
    "from sklearn.decomposition import PCA\n",
    "from sklearn.ensemble import RandomForestRegressor\n",
    "from sklearn.model_selection import train_test_split, cross_val_score\n",
    "\n",
    "import matplotlib\n",
    "import matplotlib.pyplot as plt\n",
    "\n",
    "pd.set_option('display.max_columns', None)\n",
    "seed = 100\n",
    "\n",
    "%matplotlib inline"
   ]
  },
  {
   "cell_type": "markdown",
   "metadata": {
    "id": "6JB9BGWDwzLd"
   },
   "source": [
    "# 1. Càrrega del conjunt de dades (1 punt)\n",
    "\n",
    "Durant aquesta pràctica utilitzarem el conjunt de dades [Forest Fires Data Set](https://archive.ics.uci.edu/ml/datasets/forest+fires), el qual conté informació rellevant sobre diferents incendis esdevinguts al nord-est de Portugal. Cada mostra del conjunt de dades estarà formada per l'àrea de bosc cremada i el valor de múltiples factors que podrien ser els detonants o catalitzadors del foc. El conjunt de dades el trobareu al següent enllaç: https://archive.ics.uci.edu/ml/machine-learning-databases/forest-fires/forestfires.csv.\n",
    "\n",
    "Nota: per als exercicis d'aquesta PAC farem servir com a variable objectiu l'àrea: nombre d'hectàrees afectades per l'incendi. La resta de variables del conjunt de dades conformaran els atributs descriptius."
   ]
  },
  {
   "cell_type": "markdown",
   "metadata": {
    "id": "t5ZdxVU8wzLd"
   },
   "source": [
    "<div style=\"background-color: #EDF7FF; border-color: #7C9DBF; border-left: 5px solid #7C9DBF; padding: 0.5em;\">\n",
    "<strong>Exercici:</strong> carregueu el conjunt de dades \"Forest Fires Data Set\" utilitzant el mètode \"read_csv\" de \"pandas\" i mostreu:\n",
    "<ul>\n",
    "  <li>El nombre de files (mostres) del conjunt de dades.</li>\n",
    "  <li>El nombre i nom dels atributs descriptius (variables que podrien ser usades per predir la variable objectiu).</li>\n",
    "  <li>Contrasteu aquests atributs amb què es descriuen a la pàgina web del conjunt de dades.</li>\n",
    "  <li>Verificar si hi ha o no \"missing values\" i en quines columnes.</li>\n",
    "</ul>\n",
    "Suggeriment: separeu el conjunt de dades original en les variables \"X\" (atributs descriptius) i \"y\" (variable objectiu).</div>"
   ]
  },
  {
   "cell_type": "markdown",
   "metadata": {},
   "source": [
    "En primer lloc realitzarem un anàlisi descriptiu que ens proporciona una sintesi del que ens ofereix la mostra de dades. \n",
    "La mostra es compon de 517 registres on cada un disposa de 13 atributs.\n",
    "Atributs de la mostra: \n",
    "<ul>\n",
    "  <li>X : Coordenada espacial a l'eix X en el mapa del parc de Montesinho.</li>\n",
    "  <li>Y : Coordenada espacial a l'eix Y en el mapa del parc de Montesinho.</li>\n",
    "  <li>Month : Més de l'any.</li>\n",
    "  <li>FFMC : El Fine Fuel Moisture Code és un codi que representa la relativa facilitat d'ignició i la inflamabilitat del combustible.</li>\n",
    "  <li>DMC : El Duff Moisture Code correspon a una valoració numèrica del contingut mitjà d'humitat de capes orgàniques superficials lleugerament compactades (duff).</li>\n",
    "  <li>DC : El Drought Code correspon a un valor numèric que indica el contingut mitjà d'humitat de les capes orgàniques profundes i compactes.</li>\n",
    "  <li>ISI : El Initial Spread Index és un valor numèric que indica la taxa de propagació del foc.</li>\n",
    "  <li>Temp : Temperatura en graus Celsius.</li>\n",
    "  <li>RH : Humitat relativa.</li>\n",
    "  <li>Wind : Velocitat del vent en km/h.</li>\n",
    "  <li>Rain : Pluja registrada en mm/m2.</li>\n",
    "  <li>Area : Àrea cremada del bosc en hectàrees.</li>\n",
    "</ul>"
   ]
  },
  {
   "cell_type": "markdown",
   "metadata": {},
   "source": [
    "Els atributs descriptius són aquells que ens permeten descriure/predir una altra variable objectiu. En el cas que ens ocupa, el que es pretén predir és la quantitat d'hectàrees que pot afectar un incendi segons uns factors determinats, així doncs, la variable objectiu és 'area'. La conclusió resultant que podem extreure d'aquí, és que la resta de paràmetres exceptuant 'area' del conjunt de dades, pot ser considerat com a atribut descriptiu, ja que són factors que ens permetran predir la variable objectiu 'area'. Aquesta conclusió pot ser clarament contrastada amb la descripció aportada a la mateixa web del set de dades, on es defineixen aquests atributs com a factors que descriuen les zones afectades pels incendis."
   ]
  },
  {
   "cell_type": "code",
   "execution_count": 2,
   "metadata": {
    "id": "WbesXRD0wzLe"
   },
   "outputs": [
    {
     "name": "stdout",
     "output_type": "stream",
     "text": [
      "<class 'pandas.core.frame.DataFrame'>\n",
      "RangeIndex: 517 entries, 0 to 516\n",
      "Data columns (total 13 columns):\n",
      " #   Column  Non-Null Count  Dtype  \n",
      "---  ------  --------------  -----  \n",
      " 0   X       517 non-null    int64  \n",
      " 1   Y       517 non-null    int64  \n",
      " 2   month   517 non-null    object \n",
      " 3   day     517 non-null    object \n",
      " 4   FFMC    517 non-null    float64\n",
      " 5   DMC     517 non-null    float64\n",
      " 6   DC      517 non-null    float64\n",
      " 7   ISI     517 non-null    float64\n",
      " 8   temp    517 non-null    float64\n",
      " 9   RH      517 non-null    int64  \n",
      " 10  wind    517 non-null    float64\n",
      " 11  rain    517 non-null    float64\n",
      " 12  area    517 non-null    float64\n",
      "dtypes: float64(8), int64(3), object(2)\n",
      "memory usage: 52.6+ KB\n",
      "The number of rows is : 517\n",
      "The number of headers is : 13\n",
      "There is any missing value : False\n"
     ]
    }
   ],
   "source": [
    "import pandas as pd\n",
    "#Importing dataset\n",
    "url=\"https://archive.ics.uci.edu/ml/machine-learning-databases/forest-fires/forestfires.csv\"\n",
    "df=pd.read_csv(url)\n",
    "df.info()\n",
    "print('The number of rows is :', len(df))\n",
    "headers = list(df.columns.values)\n",
    "print('The number of headers is :', len(headers))\n",
    "#Check if there is any missing value \n",
    "print('There is any missing value :', df.isnull().values.any())\n",
    "#Index new column\n",
    "df.insert(0, 'id', range(1, len(df)+1))\n",
    "#New df - only area and id\n",
    "dfArea = df[['id', 'area']].copy()\n",
    "#Area param drop from original df\n",
    "del df[\"area\"]\n",
    "# Checking dfs values - uncomment to see it\n",
    "# df.head()\n",
    "# dfArea.head()"
   ]
  },
  {
   "cell_type": "markdown",
   "metadata": {
    "id": "j5RZi4FUwzLe"
   },
   "source": [
    "# 2. Anàlisis de les dades (3 punts)"
   ]
  },
  {
   "cell_type": "markdown",
   "metadata": {
    "id": "6hbfP-D6wzLe"
   },
   "source": [
    "## 2.1 Anàlisi estadístic bàsic"
   ]
  },
  {
   "cell_type": "markdown",
   "metadata": {
    "id": "qvNXbUXJwzLe"
   },
   "source": [
    "<div style=\"background-color: #EDF7FF; border-color: #7C9DBF; border-left: 5px solid #7C9DBF; padding: 0.5em;\">\n",
    "<strong>Exercici:</strong> Elaboreu una anàlisi estadístic bàsic:: \n",
    "<ul>\n",
    "  <li>Variables categòriques:</li>\n",
    "     <ul>\n",
    "      <li>Calculeu la freqüència.</li>\n",
    "      <li>Feu un gràfic de barres.</li>\n",
    "    </ul>\n",
    "  <li>Variables numèriques:</li>\n",
    "    <ul>\n",
    "      <li>Calculeu estadístiques descriptives bàsiques: mitjana, mediana, desviació estàndard, ...</li>\n",
    "      <li>Feu un histograma.</li>\n",
    "    </ul>\n",
    "  <li>Variables geoespacials:</li>\n",
    "    <ul>\n",
    "      <li>Feu un histograma bidimensional.</li>\n",
    "    </ul>\n",
    "</ul>\n",
    "Suggeriment: podeu fer servir la llibreria \"pandas\" i les seves funcions \"describe\" i \"value_counts\", així com les funcions \"bar\", \"hist\" i \"hist2d\" de matplotlib.\n",
    "</div>"
   ]
  },
  {
   "cell_type": "code",
   "execution_count": 16,
   "metadata": {
    "id": "6Kq3yMWowzLf"
   },
   "outputs": [
    {
     "name": "stderr",
     "output_type": "stream",
     "text": [
      "C:\\Users\\xavim\\AppData\\Local\\Temp\\ipykernel_22488\\1877925497.py:12: UserWarning: Matplotlib is currently using module://matplotlib_inline.backend_inline, which is a non-GUI backend, so cannot show the figure.\n",
      "  fig.show()\n"
     ]
    },
    {
     "data": {
      "image/png": "[encoded data removed]",
      "text/plain": [
       "<Figure size 640x480 with 2 Axes>"
      ]
     },
     "metadata": {},
     "output_type": "display_data"
    }
   ],
   "source": [
    "#Imports\n",
    "import pandas as pd\n",
    "import matplotlib.pyplot as plt\n",
    "\n",
    "#Categorical variables analysis\n",
    "categorical_features = [\"month\", \"day\"]\n",
    "#Frequency plots\n",
    "fig, ax = plt.subplots(1, len(categorical_features))\n",
    "for i, categorical_feature in enumerate(df[categorical_features]):\n",
    "    df[categorical_feature].value_counts().plot(kind='bar', ax=ax[i]).set_title(categorical_feature)\n",
    "fig.show()"
   ]
  },
  {
   "cell_type": "code",
   "execution_count": 40,
   "metadata": {},
   "outputs": [
    {
     "name": "stderr",
     "output_type": "stream",
     "text": [
      "c:\\Users\\xavim\\.conda\\envs\\MAMD_pec1\\lib\\site-packages\\seaborn\\distributions.py:2619: FutureWarning: `distplot` is a deprecated function and will be removed in a future version. Please adapt your code to use either `displot` (a figure-level function with similar flexibility) or `histplot` (an axes-level function for histograms).\n",
      "  warnings.warn(msg, FutureWarning)\n",
      "c:\\Users\\xavim\\.conda\\envs\\MAMD_pec1\\lib\\site-packages\\seaborn\\distributions.py:2619: FutureWarning: `distplot` is a deprecated function and will be removed in a future version. Please adapt your code to use either `displot` (a figure-level function with similar flexibility) or `histplot` (an axes-level function for histograms).\n",
      "  warnings.warn(msg, FutureWarning)\n",
      "c:\\Users\\xavim\\.conda\\envs\\MAMD_pec1\\lib\\site-packages\\seaborn\\distributions.py:2619: FutureWarning: `distplot` is a deprecated function and will be removed in a future version. Please adapt your code to use either `displot` (a figure-level function with similar flexibility) or `histplot` (an axes-level function for histograms).\n",
      "  warnings.warn(msg, FutureWarning)\n",
      "c:\\Users\\xavim\\.conda\\envs\\MAMD_pec1\\lib\\site-packages\\seaborn\\distributions.py:2619: FutureWarning: `distplot` is a deprecated function and will be removed in a future version. Please adapt your code to use either `displot` (a figure-level function with similar flexibility) or `histplot` (an axes-level function for histograms).\n",
      "  warnings.warn(msg, FutureWarning)\n",
      "c:\\Users\\xavim\\.conda\\envs\\MAMD_pec1\\lib\\site-packages\\seaborn\\distributions.py:2619: FutureWarning: `distplot` is a deprecated function and will be removed in a future version. Please adapt your code to use either `displot` (a figure-level function with similar flexibility) or `histplot` (an axes-level function for histograms).\n",
      "  warnings.warn(msg, FutureWarning)\n",
      "c:\\Users\\xavim\\.conda\\envs\\MAMD_pec1\\lib\\site-packages\\seaborn\\distributions.py:2619: FutureWarning: `distplot` is a deprecated function and will be removed in a future version. Please adapt your code to use either `displot` (a figure-level function with similar flexibility) or `histplot` (an axes-level function for histograms).\n",
      "  warnings.warn(msg, FutureWarning)\n",
      "c:\\Users\\xavim\\.conda\\envs\\MAMD_pec1\\lib\\site-packages\\seaborn\\distributions.py:2619: FutureWarning: `distplot` is a deprecated function and will be removed in a future version. Please adapt your code to use either `displot` (a figure-level function with similar flexibility) or `histplot` (an axes-level function for histograms).\n",
      "  warnings.warn(msg, FutureWarning)\n",
      "c:\\Users\\xavim\\.conda\\envs\\MAMD_pec1\\lib\\site-packages\\seaborn\\distributions.py:2619: FutureWarning: `distplot` is a deprecated function and will be removed in a future version. Please adapt your code to use either `displot` (a figure-level function with similar flexibility) or `histplot` (an axes-level function for histograms).\n",
      "  warnings.warn(msg, FutureWarning)\n"
     ]
    },
    {
     "data": {
      "image/png": "[encoded data removed]",
      "text/plain": [
       "<Figure size 640x480 with 8 Axes>"
      ]
     },
     "metadata": {},
     "output_type": "display_data"
    }
   ],
   "source": [
    "#Imports\n",
    "import matplotlib.pyplot as plt\n",
    "import seaborn as sns\n",
    "\n",
    "#Numerical variables analysis\n",
    "numerical_features = [\"FFMC\",\"DMC\",\"DC\",\"ISI\",\"temp\",\"RH\",\"wind\",\"rain\"]\n",
    "\n",
    "#Basic stadistics\n",
    "df[numerical_features].describe()\n",
    "\n",
    "#Distribution plots\n",
    "for i, nf in enumerate(df[numerical_features]):\n",
    "    ax = plt.subplot(2, 4, i + 1)\n",
    "    # ax.hist(df[nf], bins=50, color = 'blue', edgecolor = 'black')\n",
    "    sns.distplot(df[nf], color=\"dodgerblue\", label=\"minivan\", ax=ax)\n",
    "    ax.set_title(nf)\n",
    "plt.suptitle('Distribution of the numerical variables', y=1.05, size=16)\n",
    "plt.tight_layout()\n",
    "plt.show()"
   ]
  },
  {
   "cell_type": "markdown",
   "metadata": {},
   "source": [
    "Les variables categòriques són aquelles que representen tipus de dades que poden dividir-se en diferents grups. Per altra banda, les variables numèriques o quantitatives, són aquelles que representen una característica quantificable, on els seus valors són nombres. Finalment, les dades geoespacials són aquelles que representen algun succés ubicat sobre la superfície terrestre o prop d'aquesta."
   ]
  },
  {
   "cell_type": "markdown",
   "metadata": {
    "id": "3xdsyImVwzLf"
   },
   "source": [
    "<div style=\"background-color: #EDF7FF; border-color: #7C9DBF; border-left: 5px solid #7C9DBF; padding: 0.5em;\">\n",
    "<strong>Anàlisis:</strong> comenteu els resultats.\n",
    "</div>"
   ]
  },
  {
   "cell_type": "code",
   "execution_count": null,
   "metadata": {
    "id": "NWG5UgK8wzLf"
   },
   "outputs": [],
   "source": []
  },
  {
   "cell_type": "markdown",
   "metadata": {
    "id": "IKnuJAVawzLf"
   },
   "source": [
    "## 2.2 Anàlisi exploratori de les dades"
   ]
  },
  {
   "cell_type": "markdown",
   "metadata": {
    "id": "p1bB5-7owzLf"
   },
   "source": [
    "En aquest apartat explorarem la relació dels atributs descriptius amb la variable objectiu.\n",
    "<br>\n",
    "Nota: tractarem de forma diferent els atributs categòrics dels numèrics"
   ]
  },
  {
   "cell_type": "markdown",
   "metadata": {
    "id": "XKiMP4QdwzLg"
   },
   "source": [
    "<div style=\"background-color: #EDF7FF; border-color: #7C9DBF; border-left: 5px solid #7C9DBF; padding: 0.5em;\">\n",
    "<strong>Exercici:</strong> per a cada variable categòrica, mostreu un gràfic on superposareu per a cada categoria un histograma dels valors de la variable objectiu. Afegiu una llegenda per saber a quina classe correspon cada histograma.\n",
    "    \n",
    "La finalitat és observar com es distribueix el valor de la variable objectiu segons els valors de les categories de cada variable categòrica. D'aquesta manera identificarem de manera visual i ràpida si aquest atribut categòric està relacionat o no amb diferents valors de la resposta.\n",
    "    \n",
    "<hr>\n",
    "Suggeriment: podeu fer servir la funció \"hist\" de la llibreria \"matplotlib\", així com el seu paràmetre \"alpha\" (transparència) perquè s'apreciïn els histogrames superposats.\n",
    "</div>"
   ]
  },
  {
   "cell_type": "code",
   "execution_count": null,
   "metadata": {
    "id": "gURe4iQdwzLg"
   },
   "outputs": [],
   "source": []
  },
  {
   "cell_type": "markdown",
   "metadata": {
    "id": "RrcIOlX4wzLg"
   },
   "source": [
    "<div style=\"background-color: #EDF7FF; border-color: #7C9DBF; border-left: 5px solid #7C9DBF; padding: 0.5em;\">\n",
    "<strong>Anàlisis:</strong> mirant els histogrames, et sembla que els atributs categòrics tindran algun pes a l'hora de predir la variable objectiu? Per què?\n",
    "</div>"
   ]
  },
  {
   "cell_type": "code",
   "execution_count": null,
   "metadata": {
    "id": "O9rDrq6twzLg"
   },
   "outputs": [],
   "source": []
  },
  {
   "cell_type": "markdown",
   "metadata": {
    "id": "RJL9ZXR-wzLg"
   },
   "source": [
    "<div style=\"background-color: #EDF7FF; border-color: #7C9DBF; border-left: 5px solid #7C9DBF; padding: 0.5em;\">\n",
    "<strong>Exercici:</strong> per a cada categoria de les variables categòriques calculeu els valors de mitjana i desviació estàndard de la variable objectiu. La finalitat d'aquest exercici és verificar numèricament les diferències identificades anteriorment de forma visual.\n",
    "<hr>\n",
    "Suggeriment: podeu fer servir les funcions \"mean\" i \"std\" de la llibreria \"numpy\".\n",
    "</div>"
   ]
  },
  {
   "cell_type": "code",
   "execution_count": null,
   "metadata": {
    "id": "kUbX4FebwzLg"
   },
   "outputs": [],
   "source": []
  },
  {
   "cell_type": "markdown",
   "metadata": {
    "id": "MfXV1S5WwzLh"
   },
   "source": [
    "<div style=\"background-color: #EDF7FF; border-color: #7C9DBF; border-left: 5px solid #7C9DBF; padding: 0.5em;\">\n",
    "<strong>Exercici:</strong> calcular i mostrar la correlació entre tots els atributs numèrics (incloent-hi els geoespacials) i la resposta.\n",
    "</div>"
   ]
  },
  {
   "cell_type": "code",
   "execution_count": null,
   "metadata": {
    "id": "QlJQZw3pwzLh"
   },
   "outputs": [],
   "source": []
  },
  {
   "cell_type": "markdown",
   "metadata": {
    "id": "ecTMadDCwzLh"
   },
   "source": [
    "<div style=\"background-color: #EDF7FF; border-color: #7C9DBF; border-left: 5px solid #7C9DBF; padding: 0.5em;\">\n",
    "<strong>Exercici:</strong> representeu gràficament les relacions entre totes les parelles de les variables numèriques del conjunt de dades (incloent-hi les geoespacials). La finalitat d'aquest exercici és poder observar i analitzar les correlacions entre les variables de manera gràfica.\n",
    "<hr>Suggeriment: podeu fer servir la funció \"pairplot\" de la llibreria 'seaborn'.\n",
    "</div>"
   ]
  },
  {
   "cell_type": "code",
   "execution_count": null,
   "metadata": {
    "id": "JrbjRYLBwzLh"
   },
   "outputs": [],
   "source": []
  },
  {
   "cell_type": "markdown",
   "metadata": {
    "id": "iF_WGkcWwzLh"
   },
   "source": [
    "<div style=\"background-color: #EDF7FF; border-color: #7C9DBF; border-left: 5px solid #7C9DBF; padding: 0.5em;\">\n",
    "<strong>Exercici:</strong> identifiqueu els 2 atributs que tenen una correlació més forta amb la resposta i els 3 amb una correlació més feble (coeficient de correlació major o menor en valor absolut).\n",
    "    \n",
    "Per observar i analitzar les correlacions gràficament, representeu, per a cadascun dels 5 atributs identificats, un scatter plot amb l'atribut a l'eix x i la resposta a l'eix y. A més, a cada gràfic afegiu la representació d'una regressió lineal que fiti els punts.\n",
    "        \n",
    "<hr>Suggeriment: podeu fer servir la funció \"regplot\" de la llibreria 'seaborn'.\n",
    "</div>"
   ]
  },
  {
   "cell_type": "code",
   "execution_count": null,
   "metadata": {
    "id": "ipMBM5qFwzLh"
   },
   "outputs": [],
   "source": []
  },
  {
   "cell_type": "markdown",
   "metadata": {
    "id": "EDU62nqYwzLh"
   },
   "source": [
    "<div style=\"background-color: #EDF7FF; border-color: #7C9DBF; border-left: 5px solid #7C9DBF; padding: 0.5em;\">\n",
    "<strong>Anàlisis:</strong> observant els gràfics, comenteu breument si aconseguiu veure les altes o baixes correlacions que havíeu identificat numèricament.\n",
    "</div>"
   ]
  },
  {
   "cell_type": "code",
   "execution_count": null,
   "metadata": {
    "id": "-NkbN1VzwzLh"
   },
   "outputs": [],
   "source": []
  },
  {
   "cell_type": "markdown",
   "metadata": {
    "id": "neUn4EnuwzLh"
   },
   "source": [
    "# 3. Preprocessament de les dades (3 punts)\n",
    "\n",
    "Un cop analitzats els atributs descriptius, és el moment de preparar-los perquè ens siguin útils de cara a predir valors. En aquest apartat:\n",
    "<li>Transformarem les variables categòriques en diverses variables binàries, una per a cada categoria.</li>\n",
    "<li>Estandarditzarem els valors dels atributs descriptius perquè les seves escales no siguin gaire diferents.</li>\n",
    "<li>Separarem el conjunt de dades original en dos subconjunts: entrenament i test.</li>"
   ]
  },
  {
   "cell_type": "markdown",
   "metadata": {
    "id": "6S9Z8ekSwzLi"
   },
   "source": [
    "<div style=\"background-color: #EDF7FF; border-color: #7C9DBF; border-left: 5px solid #7C9DBF; padding: 0.5em;\">\n",
    "<strong>Exercici:</strong> elimina els atributs categòrics del conjunt de dades i en el seu lloc introdueix la transformació dels atributs esmentats a tantes variables binàries com categories tinguin.\n",
    "<hr>\n",
    "Suggeriment: utilitzeu la funció \"get_dummies\" de \"pandas\".\n",
    "</div>"
   ]
  },
  {
   "cell_type": "code",
   "execution_count": null,
   "metadata": {
    "id": "eigtRhl7wzLi"
   },
   "outputs": [],
   "source": []
  },
  {
   "cell_type": "markdown",
   "metadata": {
    "id": "G6XuSzRfwzLi"
   },
   "source": [
    "<div style=\"background-color: #EDF7FF; border-color: #7C9DBF; border-left: 5px solid #7C9DBF; padding: 0.5em;\">\n",
    "<strong>Exercici:</strong> estandarditza tots els atributs descriptius.\n",
    "<hr>\n",
    "Suggeriment: utilitzeu \"StandardScaler\" de \"preprocessing\".\n",
    "</div>"
   ]
  },
  {
   "cell_type": "code",
   "execution_count": null,
   "metadata": {
    "id": "ApRTU2tVwzLi"
   },
   "outputs": [],
   "source": []
  },
  {
   "cell_type": "markdown",
   "metadata": {
    "id": "Kzs51Ey7wzLi"
   },
   "source": [
    "<div style=\"background-color: #EDF7FF; border-color: #7C9DBF; border-left: 5px solid #7C9DBF; padding: 0.5em;\">\n",
    "<strong>Exercici:</strong> separa els atributs descriptius i la variable objectiu als subconjunts d'entrenament i test.\n",
    "<hr>\n",
    "Suggeriment: per separar entre train i test podeu fer servir \"train_test_split\" de sklearn.<br>\n",
    "</div>"
   ]
  },
  {
   "cell_type": "code",
   "execution_count": null,
   "metadata": {
    "id": "LplwfLr0wzLi"
   },
   "outputs": [],
   "source": []
  },
  {
   "cell_type": "markdown",
   "metadata": {
    "id": "WTjZk6Z8wzLi"
   },
   "source": [
    "<div style=\"background-color: #EDF7FF; border-color: #7C9DBF; border-left: 5px solid #7C9DBF; padding: 0.5em;\">\n",
    "<strong>Anàlisis:</strong> explica si la decisió de transformar el conjunt de dades (variables categòriques i estandardització) abans de fer la separació del conjunt de dades als subconjunts d'entrenament i test és una bona idea.\n",
    "</div>"
   ]
  },
  {
   "cell_type": "code",
   "execution_count": null,
   "metadata": {
    "id": "UbOK5FB6wzLj"
   },
   "outputs": [],
   "source": []
  },
  {
   "cell_type": "markdown",
   "metadata": {
    "id": "bIbV2Cb0wzLj"
   },
   "source": [
    "# 4. Reducció de la dimensionalitat (2 punts)\n",
    "\n",
    "Amb el propòsit de comprovar visualment la distribució de la variable objectiu tenint en compte tots els atributs descriptius alhora, reduirem la dimensionalitat del problema a només dos atributs que seran la projecció dels atributs descriptius originals."
   ]
  },
  {
   "cell_type": "markdown",
   "metadata": {
    "id": "GBtBjXf-wzLj"
   },
   "source": [
    "<div style=\"background-color: #EDF7FF; border-color: #7C9DBF; border-left: 5px solid #7C9DBF; padding: 0.5em;\">\n",
    "<strong>Exercici:</strong><br>\n",
    "<ul>\n",
    "    <li>Apliqueu el mètode de reducció de la dimensionalitat Principal Component Analysis (PCA) per reduir a 2 dimensions el dataset original que conté tots els atributs.</li>\n",
    "    <li>Genereu un gràfic amb el resultat del PCA en què es mostri, en funció dels valors de les dues components als eixos x i y, el valor de la variable objectiu usant l'escala de colors. L'objectiu és visualitzar la variació de la variable objectiu en funció dels valors dels components principals generats.</li>\n",
    "</ul>\n",
    "    \n",
    "NOTA: compte, no inclogueu la variable objectiu en la reducció de dimensionalitat. Volem explicar la variable objectiu en funció de la resta de variables reduïdes a dues dimensions.\n",
    "\n",
    "<hr>\n",
    "Suggeriment: no cal que programeu l'algorisme de PCA, podeu fer servir la implementació disponible a la llibreria de \"scikit-learn\".<br>\n",
    "Suggeriment: per al gràfic, podeu fer servir l'scatter plot de matplotlib amb el paràmetre \"c\", que indica el color dels punts, igual a la variable objectiu.<br>\n",
    "Suggeriment: utilitzeu el paràmetre \"norm=matplotlib.colors.LogNorm()\" dins de l'scatter per mostrar de forma logarítmica l'àrea cremada de bosc.\n",
    "</div>"
   ]
  },
  {
   "cell_type": "code",
   "execution_count": null,
   "metadata": {
    "id": "xZGqDmY2wzLj"
   },
   "outputs": [],
   "source": []
  },
  {
   "cell_type": "markdown",
   "metadata": {
    "id": "qCUrTG9OwzLj"
   },
   "source": [
    "<div style=\"background-color: #EDF7FF; border-color: #7C9DBF; border-left: 5px solid #7C9DBF; padding: 0.5em;\">\n",
    "<strong>Exercici:</strong><br>\n",
    "<ul>\n",
    "    <li>Repetiu la reducció de dimensionalitat, però en aquest cas usant TSNE. Podeu trobar més informació sobre aquest algorisme al link: <a href=\"https://distill.pub/2016/misread-tsne\">https://distill.pub/2016/misread-tsne/</a></li>\n",
    "    <li>Igual que abans, genereu un gràfic amb el resultat del TSNE en què es mostri, en funció dels valors de les 2 noves dimensions als eixos x i y, el valor de la variable objectiu fent servir una escala de colors.</li>\n",
    "</ul>\n",
    "\n",
    "<hr>\n",
    "Suggeriment: no cal que programeu l'algorisme TSNE, podeu fer servir la implementació disponible a la llibreria de \"scikit-learn\".<br>\n",
    "Suggeriment: a part d'especificar el nombre de components, proveu de fer servir els paràmetres \"learning_rate\" i \"perplexity\".<br>\n",
    "Suggeriment: per al gràfic, podeu fer servir l'scatter plot de matplotlib amb el paràmetre \"c\", que indica el color dels punts, igual a la variable objectiu.<br>\n",
    "Suggeriment: utilitzeu el paràmetre \"norm=matplotlib.colors.LogNorm()\" dins de l'scatter per mostrar de forma logarítmica l'àrea cremada de bosc.\n",
    "</div>"
   ]
  },
  {
   "cell_type": "code",
   "execution_count": null,
   "metadata": {
    "id": "sY3slFwewzLj"
   },
   "outputs": [],
   "source": []
  },
  {
   "cell_type": "markdown",
   "metadata": {
    "id": "BnuRVbxxwzLj"
   },
   "source": [
    "<div style=\"background-color: #EDF7FF; border-color: #7C9DBF; border-left: 5px solid #7C9DBF; padding: 0.5em;\">\n",
    "<strong>Anàlisis:</strong> observant els dos gràfics, creieu que ha funcionat bé la reducció de dimensionalitat? Us sembla que les 2 noves dimensions aconsegueixen explicar la variació de la variable objectiu i visualitzar diferenciadament àrees d'incèndies grans o petites? Si utilitzéssim les 2 noves variables per predir la variable objectiu, serien bons els resultats obtinguts?\n",
    "    \n",
    "Per què aconseguim resultats tan diferents amb els dos mètodes?\n",
    "</div>"
   ]
  },
  {
   "cell_type": "code",
   "execution_count": null,
   "metadata": {
    "id": "z5dR5c6cwzLj"
   },
   "outputs": [],
   "source": []
  },
  {
   "cell_type": "markdown",
   "metadata": {
    "id": "2ukGWr_xwzLj"
   },
   "source": [
    "# 5. Entrenament i test (1 punt)\n",
    "\n",
    "En aquest darrer exercici es tracta d'aplicar un mètode d'aprenentatge supervisat, concretament el Random Forest per a regressió, amb l'objectiu de predir la variable objectiu i avaluar la precisió obtinguda amb el model. Per això:\n",
    "<ul>\n",
    "    <li>Entrenarem el model amb el conjunt d'entrenament i veurem com es comporta tant amb el subconjunt d'entrenament com amb el de test.</li>\n",
    "    <li>Analitzarem si el resultat aconseguit té sentit i veurem si es pot millorar d'alguna manera.</li>\n",
    "</ul>\n",
    "<br>"
   ]
  },
  {
   "cell_type": "markdown",
   "metadata": {
    "id": "Z59ebu1IwzLj"
   },
   "source": [
    "<div style=\"background-color: #EDF7FF; border-color: #7C9DBF; border-left: 5px solid #7C9DBF; padding: 0.5em;\">\n",
    "<strong>Exercici:</strong> usant el conjunt de dades preprocessat (variables categòriques i estandardització) sense aplicar reducció de la dimensionalitat:\n",
    "<ul>\n",
    "    <li>Definiu un model Random Forest (fixant n_estimators=100 i random_state=seed).</li>\n",
    "    <li>Mostreu la precisió del model tant al subconjunt d'entrenament com de test.</li>\n",
    "</ul>\n",
    "<hr>\n",
    "Suggeriment: per entrenar un model random forest podeu fer servir \"RandomForestRegressor\" de sklearn.<br>\n",
    "Suggeriment: per mostrar la precisió del model podeu fer servir el mètode \"score\" del propi model.<br>\n",
    "</div>"
   ]
  },
  {
   "cell_type": "code",
   "execution_count": null,
   "metadata": {
    "id": "K3Lu-MFNwzLk"
   },
   "outputs": [],
   "source": []
  },
  {
   "cell_type": "markdown",
   "metadata": {
    "id": "2YPbt3grwzLk"
   },
   "source": [
    "<div style=\"background-color: #EDF7FF; border-color: #7C9DBF; border-left: 5px solid #7C9DBF; padding: 0.5em;\">\n",
    "<strong>Anàlisis:</strong> explica per què la precisió del model sobre els valors d'entrenament i test presenten aquests valors.\n",
    "</div>"
   ]
  },
  {
   "cell_type": "code",
   "execution_count": null,
   "metadata": {
    "id": "FkuYanThwzLk"
   },
   "outputs": [],
   "source": []
  },
  {
   "cell_type": "markdown",
   "metadata": {
    "id": "bX6Fsu-HwzLk"
   },
   "source": [
    "<div style=\"background-color: #EDF7FF; border-color: #7C9DBF; border-left: 5px solid #7C9DBF; padding: 0.5em;\">\n",
    "<strong>Anàlisis:</strong> discutiu quines tècniques podríeu aplicar per millorar la situació actual del model.\n",
    "</div>"
   ]
  },
  {
   "cell_type": "code",
   "execution_count": null,
   "metadata": {
    "id": "YyU7_PU2wzLk"
   },
   "outputs": [],
   "source": []
  }
 ],
 "metadata": {
  "colab": {
   "provenance": []
  },
  "kernelspec": {
   "display_name": "Python 3 (ipykernel)",
   "language": "python",
   "name": "python3"
  },
  "language_info": {
   "codemirror_mode": {
    "name": "ipython",
    "version": 3
   },
   "file_extension": ".py",
   "mimetype": "text/x-python",
   "name": "python",
   "nbconvert_exporter": "python",
   "pygments_lexer": "ipython3",
   "version": "3.9.7"
  },
  "toc": {
   "base_numbering": 1,
   "nav_menu": {},
   "number_sections": true,
   "sideBar": true,
   "skip_h1_title": false,
   "title_cell": "Table of Contents",
   "title_sidebar": "Contents",
   "toc_cell": false,
   "toc_position": {},
   "toc_section_display": true,
   "toc_window_display": false
  }
 },
 "nbformat": 4,
 "nbformat_minor": 1
}
