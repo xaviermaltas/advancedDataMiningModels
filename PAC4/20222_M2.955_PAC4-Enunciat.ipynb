{
 "cells": [
  {
   "cell_type": "markdown",
   "metadata": {},
   "source": [
    "<div style=\"width: 100%; clear: both;\">\n",
    "<div style=\"float: left; width: 50%;\">\n",
    "<img src=\"http://www.uoc.edu/portal/_resources/common/imatges/marca_UOC/UOC_Masterbrand.jpg\", align=\"left\">\n",
    "</div>\n",
    "<div style=\"float: right; width: 50%;\">\n",
    "<p style=\"margin: 0; padding-top: 22px; text-align:right;\">M2.955 · Models avançats de mineria de dades</p>\n",
    "<p style=\"margin: 0; text-align:right;\">2022-2 · Màster universitari en Ciència de dades (Data science)</p>\n",
    "<p style=\"margin: 0; text-align:right; padding-button: 100px;\">Estudis d'Informàtica, Multimèdia i Telecomunicació</p>\n",
    "</div>\n",
    "</div>\n",
    "<div style=\"width:100%;\">&nbsp;</div>"
   ]
  },
  {
   "cell_type": "markdown",
   "metadata": {},
   "source": [
    "<div class=\"alert alert-block alert-info\">\n",
    "<strong>Nom i cognoms:</strong>\n",
    "</div>"
   ]
  },
  {
   "cell_type": "markdown",
   "metadata": {},
   "source": []
  },
  {
   "cell_type": "markdown",
   "metadata": {},
   "source": [
    "# PAC 4: Sèries temporals i combinació de models de regressió\n",
    "\n",
    "Aquesta activitat està dividida en dues parts:\n",
    "\n",
    " - **[Sèries temporals](#ej1)**: Descomposar i composar sèries temporals per fer prediccions a futur.\n",
    " - **[Combinació de classificadors](#ej2)**: Estudi de diferents mètodes de combinació de classificadors."
   ]
  },
  {
   "cell_type": "markdown",
   "metadata": {},
   "source": [
    "<u>Consideracions generals</u>: \n",
    "\n",
    "- La solució plantejada no pot utilitzar mètodes, funcions o paràmetres declarats **_deprecated_** en futures versions, llevat que s'indiqui explícitament.\n",
    "- Aquesta PAC s'ha de fer de manera **estrictament individual**. Qualsevol indici de còpia serà penalitzat amb un suspens (D) per a totes les parts implicades i la possible avaluació negativa de l'assignatura de manera íntegra.\n",
    "- Cal que l'estudiant indiqui **totes les fonts** que ha fet servir per a la realització de la PAC. Si no és així, es considerarà que l'estudiant ha comès plagi, i és penalitzat amb un suspens (D) i la possible avaluació negativa de l'assignatura de forma íntegra.\n",
    "- En aquesta PAC cal utilitzar **únicament les llibreries que s'importen a continuació**. Si voleu utilitzar una altra llibreria cal consultar-ho amb el tutor/tutora de l'aula.\n",
    "\n",
    "<u>Format del lliurament</u>:\n",
    "\n",
    "- Alguns exercicis poden suposar diversos minuts d'execució, per la qual cosa el lliurament s'ha de fer a **format notebook** ia **format HTML**, on es vegi el codi, els resultats i comentaris de cada exercici. Es pot exportar el notebook a HTML des del menú File $\\to$ Download as $\\to$ HTML.\n",
    "- Existeix un tipus de cel·la especial per allotjar text. Aquest tipus de cel·la us serà molt útil per respondre les diferents preguntes teòriques plantejades al llarg de lactivitat. Per canviar el tipus de cel·la a aquest tipus, al menú: Cell $\\to$ Cell Type $\\to$ Markdown."
   ]
  },
  {
   "cell_type": "markdown",
   "metadata": {},
   "source": [
    "Iniciem la PAC amb la càrrega de les següents llibreries:"
   ]
  },
  {
   "cell_type": "code",
   "execution_count": 1,
   "metadata": {},
   "outputs": [],
   "source": [
    "from matplotlib import pyplot as plt\n",
    "import pandas as pd\n",
    "import numpy as np\n",
    "import scipy.stats\n",
    "from sklearn.linear_model import LinearRegression\n",
    "from sklearn.neighbors import KNeighborsClassifier\n",
    "from sklearn.tree import DecisionTreeClassifier\n",
    "from sklearn.model_selection import train_test_split\n",
    "from sklearn.model_selection import cross_val_score\n",
    "from sklearn.metrics import accuracy_score\n",
    "from sklearn import ensemble\n",
    "from sklearn import svm\n",
    "\n",
    "%matplotlib inline"
   ]
  },
  {
   "cell_type": "markdown",
   "metadata": {},
   "source": [
    "<a id=\"ej1\"></a>\n",
    "\n",
    "# 1. Sèries temporals (6 punts)\n",
    "\n",
    "En aquest primer exercici, treballarem amb sèries temporals. Per fer-ho, farem servir el dataset **temperatura.csv** que conté la temperatura mitjana mensual de Barcelona dels darrers 15 anys, del 2008 al 2022.\n",
    "\n",
    "Començarem llegint les dades i observant-ne gràficament la distribució. Com es pot apreciar, és un clar cas de sèrie temporal, amb heterocedasticitat, tendència, període i soroll. Al llarg daquest exercici tractarem cadascun daquests punts."
   ]
  },
  {
   "cell_type": "code",
   "execution_count": 2,
   "metadata": {},
   "outputs": [
    {
     "data": {
      "text/html": [
       "<div>\n",
       "<style scoped>\n",
       "    .dataframe tbody tr th:only-of-type {\n",
       "        vertical-align: middle;\n",
       "    }\n",
       "\n",
       "    .dataframe tbody tr th {\n",
       "        vertical-align: top;\n",
       "    }\n",
       "\n",
       "    .dataframe thead th {\n",
       "        text-align: right;\n",
       "    }\n",
       "</style>\n",
       "<table border=\"1\" class=\"dataframe\">\n",
       "  <thead>\n",
       "    <tr style=\"text-align: right;\">\n",
       "      <th></th>\n",
       "      <th>Temperature</th>\n",
       "    </tr>\n",
       "    <tr>\n",
       "      <th>Year_Month</th>\n",
       "      <th></th>\n",
       "    </tr>\n",
       "  </thead>\n",
       "  <tbody>\n",
       "    <tr>\n",
       "      <th>2008-01-01</th>\n",
       "      <td>10.1</td>\n",
       "    </tr>\n",
       "    <tr>\n",
       "      <th>2008-02-01</th>\n",
       "      <td>10.2</td>\n",
       "    </tr>\n",
       "    <tr>\n",
       "      <th>2008-03-01</th>\n",
       "      <td>10.8</td>\n",
       "    </tr>\n",
       "    <tr>\n",
       "      <th>2008-04-01</th>\n",
       "      <td>13.7</td>\n",
       "    </tr>\n",
       "    <tr>\n",
       "      <th>2008-05-01</th>\n",
       "      <td>16.6</td>\n",
       "    </tr>\n",
       "  </tbody>\n",
       "</table>\n",
       "</div>"
      ],
      "text/plain": [
       "            Temperature\n",
       "Year_Month             \n",
       "2008-01-01         10.1\n",
       "2008-02-01         10.2\n",
       "2008-03-01         10.8\n",
       "2008-04-01         13.7\n",
       "2008-05-01         16.6"
      ]
     },
     "execution_count": 2,
     "metadata": {},
     "output_type": "execute_result"
    }
   ],
   "source": [
    "data = pd.read_csv(\"temperatura.csv\", parse_dates=['Year_Month'], index_col='Year_Month', header=0)\n",
    "data.head()"
   ]
  },
  {
   "cell_type": "code",
   "execution_count": 3,
   "metadata": {},
   "outputs": [
    {
     "data": {
      "text/plain": [
       "<AxesSubplot:xlabel='Year_Month'>"
      ]
     },
     "execution_count": 3,
     "metadata": {},
     "output_type": "execute_result"
    },
    {
     "data": {
      "image/png": "[encoded data removed]",
      "text/plain": [
       "<Figure size 1500x500 with 1 Axes>"
      ]
     },
     "metadata": {},
     "output_type": "display_data"
    }
   ],
   "source": [
    "data.plot(figsize=(15, 5))"
   ]
  },
  {
   "cell_type": "markdown",
   "metadata": {},
   "source": [
    "A continuació, separarem els darrers tres anys de dades del dataset original, les quals ens serviran com a conjunt de test. Així, quan fem una predicció de futur podrem comprovar si s'ajusta a les dades reals. La resta del conjunt de dades serà el nostre conjunt de dades d'entrenament."
   ]
  },
  {
   "cell_type": "code",
   "execution_count": 4,
   "metadata": {},
   "outputs": [
    {
     "data": {
      "text/plain": [
       "((144, 1), (144,), (36, 1), (36,))"
      ]
     },
     "execution_count": 4,
     "metadata": {},
     "output_type": "execute_result"
    }
   ],
   "source": [
    "TEST_SIZE = 36\n",
    "train, test = data.iloc[:-TEST_SIZE].to_numpy(), data.iloc[-TEST_SIZE:].to_numpy()\n",
    "x_train, x_test = np.arange(train.shape[0]), np.arange(train.shape[0], data.shape[0])\n",
    "train.shape, x_train.shape, test.shape, x_test.shape"
   ]
  },
  {
   "cell_type": "code",
   "execution_count": 5,
   "metadata": {},
   "outputs": [
    {
     "data": {
      "text/plain": [
       "<matplotlib.legend.Legend at 0x7f84608cd5e0>"
      ]
     },
     "execution_count": 5,
     "metadata": {},
     "output_type": "execute_result"
    },
    {
     "data": {
      "image/png": "[encoded data removed]",
      "text/plain": [
       "<Figure size 1500x500 with 1 Axes>"
      ]
     },
     "metadata": {},
     "output_type": "display_data"
    }
   ],
   "source": [
    "fig, ax = plt.subplots(1, 1, figsize=(15, 5))\n",
    "ax.plot(x_train, train, label='training')\n",
    "ax.plot(x_test, test, label='test')\n",
    "ax.legend()"
   ]
  },
  {
   "cell_type": "markdown",
   "metadata": {},
   "source": [
    "## 1.1 Components de la sèrie temporal"
   ]
  },
  {
   "cell_type": "markdown",
   "metadata": {},
   "source": [
    "### 1.1.a. Heterocedasticitat\n",
    "\n",
    "Una sèrie temporal té heterocedasticitat quan la variància varia amb el temps (https://es.wikipedia.org/wiki/Heterocedasticidad). En el nostre cas, observem que tenim una lleu heterocedasticitat, ja que l'amplitud d'ona varia lleument amb el temps. En aquest primer apartat heu d'eliminar l'heterocedasticitat de la sèrie temporal. És a dir, que la diferència entre el mínim i el màxim de l'estacionalitat (anual) sigui més o menys la mateixa al llarg del temps."
   ]
  },
  {
   "cell_type": "markdown",
   "metadata": {},
   "source": [
    "<div class=\"alert alert-block alert-info\">\n",
    "    <strong>Implementació:</strong> transforma les <strong>dades d'entrenament</strong> per eliminar l'heterocedasticitat. Per això heu de transformar les dades aplicant la funció que considereu que elimina millor l'heterocedasticitat al dataset (exponencial, logarítmica, ...). Aquestes funcions ja estan implementades a numpy. Graficar les dades originals juntament amb les dades transformades.\n",
    "</div>"
   ]
  },
  {
   "cell_type": "code",
   "execution_count": null,
   "metadata": {},
   "outputs": [],
   "source": []
  },
  {
   "cell_type": "markdown",
   "metadata": {},
   "source": [
    "### 1.1.b. Tendència\n",
    "\n",
    "La tendència és el comportament que tenen les dades a llarg termini (https://miro.medium.com/max/1872/1*rDQL2fAp_X_dgAHNZuwRfw.png). A la nostra sèrie temporal tenim una lleugera tendència lineal creixent. En aquest apartat heu d'eliminar la tendència, quedant una sèrie temporal amb tendència constant."
   ]
  },
  {
   "cell_type": "markdown",
   "metadata": {},
   "source": [
    "<div class=\"alert alert-block alert-info\">\n",
    "    <strong>Implementació:</strong> elimina la tendència de les dades transformades a la secció anterior. Observant la sèrie, podem apreciar que tenim una tendència lineal, per això podem ajustar una regressió lineal (usant scikit-learn) i sostreure-la a les dades anteriors (entrenament sense heterocedasticitat). En aquest exercici, primer hem de graficar la sèrie amb tendència juntament amb la regressió lineal i, a continuació, cal sostreure la tendència i graficar la sèrie resultant (sense tendència).\n",
    "</div>"
   ]
  },
  {
   "cell_type": "code",
   "execution_count": null,
   "metadata": {},
   "outputs": [],
   "source": []
  },
  {
   "cell_type": "markdown",
   "metadata": {},
   "source": [
    "### 1.1.c. Estacionalitat\n",
    "\n",
    "Definim l'estacionalitat com la variació cíclica que es produeix a les dades (https://es.wikipedia.org/wiki/Estacionalidad). En aquest apartat cal trobar i eliminar l'estacionalitat."
   ]
  },
  {
   "cell_type": "markdown",
   "metadata": {},
   "source": [
    "#### 1.1.c.a. Trobar el període de l´estacionalitat"
   ]
  },
  {
   "cell_type": "markdown",
   "metadata": {},
   "source": [
    "<div class=\"alert alert-block alert-info\">\n",
    "    <strong>Implementació:</strong> en primer lloc heu de trobar el cicle, és a dir, cada quant es repeteixen les dades. Per això, podem fer servir l'autocorrelació (numpy et permet obtenir els coeficients de correlació). En aquest exercici, es demana graficar els coeficients per als 22 primers valors d'autocorrelació i determinar-ne el valor màxim, el qual serà la nostra estacionalitat. Donar una interpretació semàntica del resultat obtingut.\n",
    "</div>\n",
    "\n",
    "<strong>Nota:</strong> utilitzeu la sèrie obtinguda a l'apartat anterior (sense tendència ni heterocedasticitat)."
   ]
  },
  {
   "cell_type": "code",
   "execution_count": null,
   "metadata": {},
   "outputs": [],
   "source": []
  },
  {
   "cell_type": "markdown",
   "metadata": {},
   "source": [
    "#### 1.1.c.b. Calculeu el patró d'estacionalitat"
   ]
  },
  {
   "cell_type": "markdown",
   "metadata": {},
   "source": [
    "<div class=\"alert alert-block alert-info\">\n",
    "    <strong>Implementació:</strong> ara que ja coneixeu el cicle, heu de calcular el patró (el motlle de l'estacionalitat). És a dir, per a cada punt del cicle, calculeu la mitjana d'aquest punt en cadascun dels cicles de la sèrie.\n",
    "</div>\n",
    "\n",
    "<strong>Nota:</strong> utilitzeu la sèrie obtinguda a l'apartat anterior (sense tendència ni heterocedasticitat)."
   ]
  },
  {
   "cell_type": "code",
   "execution_count": null,
   "metadata": {},
   "outputs": [],
   "source": []
  },
  {
   "cell_type": "markdown",
   "metadata": {},
   "source": [
    "<div class=\"alert alert-block alert-info\">\n",
    "    <strong>Implementació:</strong> una vegada obtingut el patró, repliqueu-lo al llarg de tota la sèrie temporal. Quan ho hagueu calculat, heu de restar-ho de la sèrie temporal (sense tendència ni heterocedasticitat). Graficar les dades amb estacionalitat juntament amb les dades sense estacionalitat.\n",
    "</div>"
   ]
  },
  {
   "cell_type": "code",
   "execution_count": null,
   "metadata": {},
   "outputs": [],
   "source": []
  },
  {
   "cell_type": "markdown",
   "metadata": {},
   "source": [
    "### 1.1.d. Soroll"
   ]
  },
  {
   "cell_type": "markdown",
   "metadata": {},
   "source": [
    "Un cop eliminades l'heterocedasticitat, la tendència i l'estacionalitat, allò que ens queda és el soroll. El soroll segueix una distribució normal. En aquest apartat heu de trobar els paràmetres de la distribució que segueix el soroll (mitjana i desviació estàndard)."
   ]
  },
  {
   "cell_type": "markdown",
   "metadata": {},
   "source": [
    "<div class=\"alert alert-block alert-info\">\n",
    "    <strong>Implementació:</strong> trobar la distribució que té el soroll (mitjana i desviació estàndard) usant el soroll obtingut a l'apartat anterior, és a dir, la sèrie sense heterocedasticitat, tendència i estacionalitat. Podeu fer servir scipy.stats. Finalment, grafiqueu un histograma del soroll juntament amb un histograma de la distribució teòrica que té el soroll.\n",
    "</div>"
   ]
  },
  {
   "cell_type": "code",
   "execution_count": null,
   "metadata": {},
   "outputs": [],
   "source": []
  },
  {
   "cell_type": "markdown",
   "metadata": {},
   "source": [
    "## 1.2. Predicció"
   ]
  },
  {
   "cell_type": "markdown",
   "metadata": {},
   "source": [
    "Quan hem descomposat la sèrie temporal (d'entrenament), predirem els tres propers anys i compararem la predicció amb les dades reals. Per això seguirem els passos següents:\n",
    "\n",
    "- Generar soroll\n",
    "- Afegir estacionalitat\n",
    "- Afegir tendència\n",
    "- Afegir heterocedasticitat"
   ]
  },
  {
   "cell_type": "markdown",
   "metadata": {},
   "source": [
    "### 1.2.a. Soroll"
   ]
  },
  {
   "cell_type": "markdown",
   "metadata": {},
   "source": [
    "Com hem vist que el soroll es distribueix aleatòriament seguint una distribució normal, generarem soroll seguint aquesta distribució."
   ]
  },
  {
   "cell_type": "markdown",
   "metadata": {},
   "source": [
    "<div class=\"alert alert-block alert-info\">\n",
    "    <strong>Implementació:</strong> genera tres anys de dades de soroll (36 mostres) usant la distribució trobada a l'apartat 1.1.d. Podeu fer servir el mòdul random de numpy. Finalment, grafiqueu el resultat.\n",
    "</div>"
   ]
  },
  {
   "cell_type": "code",
   "execution_count": null,
   "metadata": {},
   "outputs": [],
   "source": []
  },
  {
   "cell_type": "markdown",
   "metadata": {},
   "source": [
    "### 1.2.b. Estacionalitat"
   ]
  },
  {
   "cell_type": "markdown",
   "metadata": {},
   "source": [
    "Anteriorment, hem calculat l'estacionalitat i el cicle de la sèrie temporal. Farem servir aquesta estacionalitat ja calculada per afegir-la a la nostra predicció."
   ]
  },
  {
   "cell_type": "markdown",
   "metadata": {},
   "source": [
    "<div class=\"alert alert-block alert-info\">\n",
    "    <strong>Implementació:</strong> afegeix als tres anys de soroll calculats a l'apartat anterior, l'estacionalitat trobada a l'apartat 1.1.c. Grafica el resultat.\n",
    "</div>"
   ]
  },
  {
   "cell_type": "code",
   "execution_count": null,
   "metadata": {},
   "outputs": [],
   "source": []
  },
  {
   "cell_type": "markdown",
   "metadata": {},
   "source": [
    "### 1.2.c. Tendència"
   ]
  },
  {
   "cell_type": "markdown",
   "metadata": {},
   "source": [
    "A la secció 1.1.b hem vist que les dades de la sèrie temporal tenen una tendència lineal i l'hem calculada mitjançant una regressió lineal. Ara afegirem aquesta tendència a la nostra predicció."
   ]
  },
  {
   "cell_type": "markdown",
   "metadata": {},
   "source": [
    "<div class=\"alert alert-block alert-info\">\n",
    "    <strong>Implementació:</strong> afegeix als tres anys de soroll i estacionalitat calculats a l'apartat anterior, la tendència trobada a l'apartat 1.1.b. Finalment, grafiqueu la sèrie obtinguda.\n",
    "</div>"
   ]
  },
  {
   "cell_type": "code",
   "execution_count": null,
   "metadata": {},
   "outputs": [],
   "source": []
  },
  {
   "cell_type": "markdown",
   "metadata": {},
   "source": [
    "### 1.2.d. Heterocedasticitat"
   ]
  },
  {
   "cell_type": "markdown",
   "metadata": {},
   "source": [
    "Al primer apartat d'aquesta pràctica hem vist que la sèrie temporal té heterocedasticitat i l'hem eliminat transformant les dades. En aquest apartat farem la transfromació inversa per afegir heterocedasticitat a la nostra predicció."
   ]
  },
  {
   "cell_type": "markdown",
   "metadata": {},
   "source": [
    "<div class=\"alert alert-block alert-info\">\n",
    "    <strong>Implementació:</strong> afegeix als tres anys de soroll, estacionalitat i tendència calculats a l'apartat anterior, l'heterocedasticitat, aplicant la funció inversa a la trobada a l'apartat 1.1.a. Grafica el resultat juntament amb la sèrie completa i compara la predicció obtinguda amb les dades reals.\n",
    "</div>"
   ]
  },
  {
   "cell_type": "code",
   "execution_count": null,
   "metadata": {},
   "outputs": [],
   "source": []
  },
  {
   "cell_type": "markdown",
   "metadata": {},
   "source": [
    "<div class=\"alert alert-block alert-info\">\n",
    "    <strong>Anàlisi:</strong> Analitzeu els resultats obtinguts.\n",
    "</div>"
   ]
  },
  {
   "cell_type": "code",
   "execution_count": null,
   "metadata": {},
   "outputs": [],
   "source": []
  },
  {
   "cell_type": "markdown",
   "metadata": {},
   "source": [
    "<a id=\"ej2\"></a>\n",
    "\n",
    "# 2. Combinació de classificadors (4 punts)"
   ]
  },
  {
   "cell_type": "markdown",
   "metadata": {},
   "source": [
    "L'_ensemble learning_ és una estratègia en què s'utilitza un grup de models per resoldre un problema mitjançant la combinació estratègica de diversos models d'aprenentatge automàtic en un model predictiu.\n",
    "\n",
    "En general, els mètodes d'ensemble s'utilitzen principalment per millorar la precisió del rendiment general d'un model i combinar diversos models diferents, també coneguts com a aprenents bàsics, per predir els resultats, en comptes d'utilitzar només un model.\n",
    "\n",
    "Per què entrenem tants classificadors diferents en lloc d'un de sol? Bé, l'ús de diversos models per predir el resultat final en realitat redueix la probabilitat de sospesar les decisions preses per models deficients (sobreentrenats, no degudament ajustats...).\n",
    "\n",
    "Com més diversos siguin aquests aprenents bàsics, més poderós serà el model final.\n",
    "\n",
    "Tinguem en compte que en qualsevol model daprenentatge automàtic, l'error de generalització ve donat per la suma de quadrats de biaixos + variància + error irreductible.\n",
    "\n",
    "Els errors irreductibles són una cosa que està més enllà de nosaltres! No els podem reduir.\n",
    "\n",
    "Tot i així, utilitzant ensembles, podem reduir el biaix (bias) i la variància d'un model. Això redueix l'error de generalització general.\n",
    "\n",
    "La <strong>compensació de biaix-variança</strong> és el punt de referència més important que diferencia un model robust d'un inferior (entenguem per inferior un model no gaire generalitzable).\n",
    "\n",
    "Tot i que no és una regla exacta, en l'aprenentatge automàtic, els models que tenen un biaix alt tendeixen a tenir una variància més baixa i viceversa.\n",
    "\n",
    "Hem estat parlant de biaix i variància. Vegem, però, que entenem per biaix d'un model i per variància d'un model.\n",
    "\n",
    "1. <strong>Biaix</strong>: El biaix és un error que sorgeix degut a suposicions falses realitzades a la fase d'aprenentatge d'un model. Un biaix alt pot fer que un algoritme d'aprenentatge ometi informació important i correlacions entre les variables independents i les etiquetes de classe, per la qual cosa no sajusta al model.\n",
    "\n",
    "2. <strong>Variança</strong>: la variància ens indica la sensibilitat d'un model als petits canvis a les dades d'entrenament. És a dir, quan canvia el model. Una gran variació en un model ho farà propens al soroll aleatori present al conjunt de dades, per la qual cosa s'ajustarà massa al model.\n",
    "\n",
    "Per comprendre amb més detall la compensació de biaix i variància en els models d'aprenentatge automàtic, podeu consultar aquest [article](https://towardsdatascience.com/understanding-the-bias-variance-tradeoff-165e6942b229).\n",
    "\n",
    "Un cop arribats a aquest punt, podem dividir els ensembles en quatre categories:\n",
    "\n",
    "1. <strong>Bagging</strong>: El bagging es fa servir principalment per reduir la variació en un model. Un exemple simple de bagging és l'algorisme Random Forest.\n",
    "\n",
    "2. <strong>Boosting</strong>: El boosting s'utilitza principalment per reduir el biaix en un model. Exemples d'algorismes són Ada-Boost, XGBoost, arbres de decisió millorats per gradient, etc.\n",
    "\n",
    "3. <strong>Stacking</strong>: El stacking s'utilitza principalment per augmentar la precisió de predicció dun model.\n",
    "\n",
    "4. <strong>Cascading</strong>: Aquesta classe de models són molt precisos. La connexió en cascada s'usa principalment en escenaris on no es pot permetre cometre un error. Per exemple, una tècnica en cascada es fa servir per detectar transaccions fraudulentes amb targetes de crèdit."
   ]
  },
  {
   "cell_type": "markdown",
   "metadata": {},
   "source": [
    "## Dades"
   ]
  },
  {
   "cell_type": "markdown",
   "metadata": {},
   "source": [
    "Per a aquest exercici farem servir el dataset <strong>diabetes.csv</strong>. Aquest conjunt de dades és original de l'Institut Nacional de Diabetis i Malalties Digestives i Renals. L'objectiu d'aquest dataset és predir, basant-se en els mesuraments de diagnòstic, si un pacient té diabetis.\n",
    "\n",
    "En particular, tots els pacients són dones d'almenys 21 anys d'ascendència índia Pima.\n",
    "\n",
    "El dataset conté la següent informació:\n",
    "\n",
    "- Embarassos: nombre d'embarassos \n",
    "- Glucosa: concentració de glucosa en plasma a 2 hores en una prova de tolerància a la glucosa oral\n",
    "- Pressió arterial: pressió arterial diastòlica (mm Hg) \n",
    "- SkinThickness: Gruix del plec cutani del tríceps (mm) \n",
    "- Insulina: insulina sèrica de 2 hores (mu U/ml) \n",
    "- IMC: índex de massa corporal (pes en kg / (alçada en m) ^ 2) \n",
    "- DiabetisPedigreeFunction: funció del pedigrí de la diabetis \n",
    "- Edat: Edat (anys) \n",
    "- Resultat (variable objectiu): variable de classe (0 o 1)\n",
    "\n",
    "A la primera part d'aquest exercici veurem la combinació de classificadors en paral·lel mitjançant les tècniques de <strong>Bagging</strong> i <strong>Boosting</strong>.\n",
    "\n",
    "A la segona part intentarem millorar els resultats aplicant tècniques de combinació seqüencial de classificadors: <strong>Stacking</strong> i <strong>Cascading</strong>.\n",
    "\n",
    "Per començar, vegem com és el dataset."
   ]
  },
  {
   "cell_type": "code",
   "execution_count": 19,
   "metadata": {},
   "outputs": [
    {
     "name": "stdout",
     "output_type": "stream",
     "text": [
      "Hay 768 filas y 9 columnas\n"
     ]
    },
    {
     "data": {
      "text/html": [
       "<div>\n",
       "<style scoped>\n",
       "    .dataframe tbody tr th:only-of-type {\n",
       "        vertical-align: middle;\n",
       "    }\n",
       "\n",
       "    .dataframe tbody tr th {\n",
       "        vertical-align: top;\n",
       "    }\n",
       "\n",
       "    .dataframe thead th {\n",
       "        text-align: right;\n",
       "    }\n",
       "</style>\n",
       "<table border=\"1\" class=\"dataframe\">\n",
       "  <thead>\n",
       "    <tr style=\"text-align: right;\">\n",
       "      <th></th>\n",
       "      <th>Pregnancies</th>\n",
       "      <th>Glucose</th>\n",
       "      <th>BloodPressure</th>\n",
       "      <th>SkinThickness</th>\n",
       "      <th>Insulin</th>\n",
       "      <th>BMI</th>\n",
       "      <th>DiabetesPedigreeFunction</th>\n",
       "      <th>Age</th>\n",
       "      <th>Outcome</th>\n",
       "    </tr>\n",
       "  </thead>\n",
       "  <tbody>\n",
       "    <tr>\n",
       "      <th>0</th>\n",
       "      <td>6</td>\n",
       "      <td>148</td>\n",
       "      <td>72</td>\n",
       "      <td>35</td>\n",
       "      <td>0</td>\n",
       "      <td>33.6</td>\n",
       "      <td>0.627</td>\n",
       "      <td>50</td>\n",
       "      <td>1</td>\n",
       "    </tr>\n",
       "    <tr>\n",
       "      <th>1</th>\n",
       "      <td>1</td>\n",
       "      <td>85</td>\n",
       "      <td>66</td>\n",
       "      <td>29</td>\n",
       "      <td>0</td>\n",
       "      <td>26.6</td>\n",
       "      <td>0.351</td>\n",
       "      <td>31</td>\n",
       "      <td>0</td>\n",
       "    </tr>\n",
       "    <tr>\n",
       "      <th>2</th>\n",
       "      <td>8</td>\n",
       "      <td>183</td>\n",
       "      <td>64</td>\n",
       "      <td>0</td>\n",
       "      <td>0</td>\n",
       "      <td>23.3</td>\n",
       "      <td>0.672</td>\n",
       "      <td>32</td>\n",
       "      <td>1</td>\n",
       "    </tr>\n",
       "    <tr>\n",
       "      <th>3</th>\n",
       "      <td>1</td>\n",
       "      <td>89</td>\n",
       "      <td>66</td>\n",
       "      <td>23</td>\n",
       "      <td>94</td>\n",
       "      <td>28.1</td>\n",
       "      <td>0.167</td>\n",
       "      <td>21</td>\n",
       "      <td>0</td>\n",
       "    </tr>\n",
       "    <tr>\n",
       "      <th>4</th>\n",
       "      <td>0</td>\n",
       "      <td>137</td>\n",
       "      <td>40</td>\n",
       "      <td>35</td>\n",
       "      <td>168</td>\n",
       "      <td>43.1</td>\n",
       "      <td>2.288</td>\n",
       "      <td>33</td>\n",
       "      <td>1</td>\n",
       "    </tr>\n",
       "  </tbody>\n",
       "</table>\n",
       "</div>"
      ],
      "text/plain": [
       "   Pregnancies  Glucose  BloodPressure  SkinThickness  Insulin   BMI  \\\n",
       "0            6      148             72             35        0  33.6   \n",
       "1            1       85             66             29        0  26.6   \n",
       "2            8      183             64              0        0  23.3   \n",
       "3            1       89             66             23       94  28.1   \n",
       "4            0      137             40             35      168  43.1   \n",
       "\n",
       "   DiabetesPedigreeFunction  Age  Outcome  \n",
       "0                     0.627   50        1  \n",
       "1                     0.351   31        0  \n",
       "2                     0.672   32        1  \n",
       "3                     0.167   21        0  \n",
       "4                     2.288   33        1  "
      ]
     },
     "execution_count": 19,
     "metadata": {},
     "output_type": "execute_result"
    }
   ],
   "source": [
    "diabetes = pd.read_csv('diabetes.csv')\n",
    "\n",
    "nRow, nCol = diabetes.shape\n",
    "print(f'Hay {nRow} filas y {nCol} columnas')\n",
    "diabetes.head()"
   ]
  },
  {
   "cell_type": "markdown",
   "metadata": {},
   "source": [
    "Per poder provar diversos models, primer dividirem el dataset entre train i test. A més, perquè tots obtingueu els mateixos resultats i poder comentar dubtes pel fòrum/correu, fixarem la seed per obtenir els mateixos datasets de train i test.\n",
    "\n",
    "Com que en aquest exercici tractarem stacking i cascading, i tots dos s'apliquen sobre el conjunt de tests, farem un split del 60% per tenir una mica més de base en aplicar aquestes dues tècniques."
   ]
  },
  {
   "cell_type": "code",
   "execution_count": 20,
   "metadata": {},
   "outputs": [],
   "source": [
    "myseed = 13\n",
    "X = diabetes.drop(columns = 'Outcome')\n",
    "y = diabetes['Outcome']\n",
    "\n",
    "X_train, X_test, y_train, y_test = train_test_split(X, y, test_size=0.6, random_state=myseed)"
   ]
  },
  {
   "cell_type": "markdown",
   "metadata": {},
   "source": [
    "## 2.1. Combinació paral·lela de classificadors (1.5 punts)"
   ]
  },
  {
   "cell_type": "markdown",
   "metadata": {},
   "source": [
    "### 2.1.1. Arbres de decisió"
   ]
  },
  {
   "cell_type": "markdown",
   "metadata": {},
   "source": [
    "Per poder comparar l'augment de performance obtingut a mesura que anem aplicant tècniques noves, farem servir com a baseline un simple arbre de decisió."
   ]
  },
  {
   "cell_type": "markdown",
   "metadata": {},
   "source": [
    "<div class=\"alert alert-block alert-info\">\n",
    "    <strong>Implementació:</strong> Defineix un arbre de decisió amb profunditat màxima de 3 nivells (aplicarem la mateixa restricció a les següents seccions), utilitzant la llavor definida a l'apartat anterior i calcula la seva precisió sobre el conjunt de train aplicant validació creuada amb 5 conjunts. A continuació, entrena l'arbre de decisió sobre el conjunt de dades de train i avalua sobre test utilitzant la precisió com a mètrica ('accuracy').\n",
    "</div>\n",
    "\n",
    "<strong>Suggeriment:</strong> utilitzar el mòdul <strong>cross_val_score</strong> de <strong>sklearn</strong>.\n",
    "\n",
    "Per aprendre més sobre <strong>cross validation</strong> i sobre com utilitzar aquests mòduls, us recomanem els següents enllaços:\n",
    "- [cross_val_score](http://scikit-learn.org/stable/modules/generated/sklearn.model_selection.cross_val_score.html)\n",
    "- [cross_validation](http://scikit-learn.org/stable/modules/cross_validation.html)"
   ]
  },
  {
   "cell_type": "code",
   "execution_count": null,
   "metadata": {},
   "outputs": [],
   "source": []
  },
  {
   "cell_type": "markdown",
   "metadata": {},
   "source": [
    "<div class=\"alert alert-block alert-info\">\n",
    "    <strong>Anàlisi:</strong> Analitzeu els resultats obtinguts.\n",
    "</div>"
   ]
  },
  {
   "cell_type": "code",
   "execution_count": null,
   "metadata": {},
   "outputs": [],
   "source": []
  },
  {
   "cell_type": "markdown",
   "metadata": {},
   "source": [
    "### 2.1.2. Bagging"
   ]
  },
  {
   "cell_type": "markdown",
   "metadata": {},
   "source": [
    "La idea central del bagging és fer servir rèpliques del conjunt de dades original i fer-les servir per entrenar diferents classificadors.\n",
    "\n",
    "Crearem subconjunts mostrejant aleatòriament un conjunt de punts del conjunt de dades d'entrenament amb reemplaçament.\n",
    "\n",
    "Ara entrenarem classificadors individuals a cadascun d'aquests subconjunts bootstrap.\n",
    "\n",
    "Cadascun d'aquests classificadors base predirà l'etiqueta de classe per a un problema donat. Aquí és on combinem les prediccions de tots els models base. Aquesta part s'anomena etapa d'agregació. És per això que trobareu els ensembles bagging pel nom d'ensembles d'agregació.\n",
    "\n",
    "En general, es fa servir un vot de majoria simple en un sistema de classificació i es pren la mitjana de totes les prediccions per als models de regressió per combinar tots els classificadors base en un sol model i proporcionar el resultat final del model de conjunt.\n",
    "\n",
    "Un exemple simple d'aquest enfocament és l'algorisme Random Forest. El bagging redueix l'alta variació (variança) d'un model, reduint així l'error de generalització. És un mètode molt eficaç, especialment quan tenim dades molt limitades.\n",
    "\n",
    "Mitjançant l'ús de mostres de bootstrap, podem obtenir una estimació afegint les puntuacions de moltes mostres.\n",
    "\n",
    "<strong>Com faríem bagging?</strong>\n",
    "\n",
    "- Suposem que tenim un conjunt d'entrenament que conté 100.000 punts de dades.\n",
    "- Crearíem N subconjunts mostrant a l'atzar 50K punts de dades per a cada subconjunt.\n",
    "- Cadascun daquests N subconjunts sutilitzarà per entrenar N classificadors diferents.\n",
    "- A l'etapa d'agregació, totes aquestes N prediccions es combinaran en un sol model, també anomenat metaclassificador.\n",
    "\n",
    "Dels 100.000 punts presents originalment al conjunt de dades, si eliminem 1000 punts, l'impacte que tindrà als conjunts de dades mostrades serà molt inferior.\n",
    "\n",
    "Si pensem intuïtivament, és possible que alguns d'aquests 1000 punts no siguin presents a tots els conjunts de dades mostrejades i, per tant, la quantitat de punts que s'eliminaran de cada conjunt de dades mostrejades serà molt inferior. Fins i tot zero en alguns casos! En resum, l'impacte d'eliminar 1000 punts d'aquest tipus serà en realitat menor als classificadors base, cosa que reduirà la variació en un model i ho farà més sòlid.\n",
    "\n",
    "La variància no és res més que sensibilitat al soroll, com hem comentat anteriorment."
   ]
  },
  {
   "cell_type": "markdown",
   "metadata": {},
   "source": [
    "<div class=\"alert alert-block alert-info\">\n",
    "    <strong>Implementació:</strong> Defineix un Random Forest Classifier amb 20 arbres de decisió i profunditat màxima de 3 nivells, utilitzant la llavor definida a l'inici del segon exercici, i calcula la precisió sobre el conjunt de train aplicant validació creuada amb 5 conjunts. A continuació, entrena el model sobre el conjunt de dades de train i avalua sobre test utilitzant la precisió com a mètrica ('accuracy'). \n",
    "</div>\n",
    "\n",
    "<strong>Suggeriment:</strong> Usar el mòdul `RandomForestClassifier` de **sklearn**. \n",
    "\n",
    "Per a aprendre a fer servir aquest mòdul us recomanem el següent link:\n",
    "- [RandomForestClassifier](http://scikit-learn.org/stable/modules/generated/sklearn.ensemble.RandomForestClassifier.html)"
   ]
  },
  {
   "cell_type": "code",
   "execution_count": null,
   "metadata": {},
   "outputs": [],
   "source": []
  },
  {
   "cell_type": "markdown",
   "metadata": {},
   "source": [
    "<div class=\"alert alert-block alert-info\">\n",
    "    <strong>Anàlisi:</strong> Analitzeu els resultats obtinguts.\n",
    "</div>"
   ]
  },
  {
   "cell_type": "code",
   "execution_count": null,
   "metadata": {},
   "outputs": [],
   "source": []
  },
  {
   "cell_type": "markdown",
   "metadata": {},
   "source": [
    "### 2.1.3. Boosting"
   ]
  },
  {
   "cell_type": "markdown",
   "metadata": {},
   "source": [
    "El boosting s'utilitza per convertir els classificadors de base feble en forts. Els classificadors febles generalment tenen una correlació molt feble amb les etiquetes de classe veritables i els classificadors forts tenen una correlació molt alta entre el model i les etiquetes de classe veritables.\n",
    "\n",
    "El boosting capacita els classificadors febles de manera iterativa, cadascun tractant de corregir l'error comès pel model anterior. Això s'aconsegueix entrenant un model feble en totes les dades d'entrenament, tot construint un segon model que té com a objectiu corregir els errors comesos pel primer model. Després construïm un tercer model que intenta corregir els errors comesos pel segon model i així successivament. Els models s'agreguen de manera iterativa fins que el model final ha corregit tots els errors comesos per tots els models anteriors.\n",
    "\n",
    "Quan s'afegeixen els models a cada etapa, s'assignen alguns pesos al model relacionat amb la precisió del model anterior. Després d'afegir un classificador feble, els pesos es tornen a ajustar. Els punts classificats incorrectament reben pesos més alts i els punts classificats correctament reben pesos més baixos. Aquest enfocament farà que el següent classificador se centri en els errors comesos pel model anterior.\n",
    "\n",
    "El boosting redueix l'error de generalització prenent un model d'alt biaix i baixa variància i reduint el biaix en un nivell significatiu. Recordeu, el bagging redueix la variància. Com el bagging, el boosting també ens permet treballar amb models de classificació i regressió."
   ]
  },
  {
   "cell_type": "markdown",
   "metadata": {},
   "source": [
    "<div class=\"alert alert-block alert-info\">\n",
    "    <strong>Implementació:</strong> Defineix un Gradient Boosting Classifier amb 20 arbres de decisió i profunditat màxima de 3 nivells, utilitzant la llavor definida a l'inici del segon exercici, i calcula la precisió sobre el conjunt de train aplicant validació creuada amb 5 conjunts. A continuació, entrena el model sobre el conjunt de dades de train i avalua sobre test utilitzant la precisió com a mètrica ('accuracy').\n",
    "</div>\n",
    "    \n",
    "<strong>Suggeriment:</strong> \n",
    "- Usar el mòdul [GradientBoostingClassifier](http://scikit-learn.org/stable/modules/generated/sklearn.ensemble.GradientBoostingClassifier.html) de **sklearn**."
   ]
  },
  {
   "cell_type": "code",
   "execution_count": null,
   "metadata": {},
   "outputs": [],
   "source": []
  },
  {
   "cell_type": "markdown",
   "metadata": {},
   "source": [
    "<div class=\"alert alert-block alert-info\">\n",
    "    <strong>Anàlisi:</strong> Analitzeu els resultats obtinguts.\n",
    "</div>"
   ]
  },
  {
   "cell_type": "code",
   "execution_count": null,
   "metadata": {},
   "outputs": [],
   "source": []
  },
  {
   "cell_type": "markdown",
   "metadata": {},
   "source": [
    "## 2.2. Combinació seqüencial de classificadors base diferents (2.5 punts)"
   ]
  },
  {
   "cell_type": "markdown",
   "metadata": {},
   "source": [
    "Per poder fer combinació seqüencial de models, necessitem tenir diversos models diferents entrenats. En el nostre cas ja tenim un arbre de decisió. Entrenarem un parell de models més."
   ]
  },
  {
   "cell_type": "markdown",
   "metadata": {},
   "source": [
    "### 2.2.1 KNN (k veïns més propers)"
   ]
  },
  {
   "cell_type": "markdown",
   "metadata": {},
   "source": [
    "<div class=\"alert alert-block alert-info\">\n",
    "    <strong>Implementació:</strong> Defineix un K-Neighbors Classifier amb 2 veïns i calcula la seva precisió sobre el conjunt de train aplicant validació creuada amb 5 conjunts. A continuació, entrena el model sobre el conjunt de dades de train i avalua sobre test utilitzant la precisió com a mètrica ('accuracy').</div>"
   ]
  },
  {
   "cell_type": "code",
   "execution_count": null,
   "metadata": {},
   "outputs": [],
   "source": []
  },
  {
   "cell_type": "markdown",
   "metadata": {},
   "source": [
    "### 2.2.2 SVM (Support Vector Machines)"
   ]
  },
  {
   "cell_type": "markdown",
   "metadata": {},
   "source": [
    "<div class=\"alert alert-block alert-info\">\n",
    "    <strong>Implementació:</strong> Defineix un SVM amb gamma = 0.07 i calcula la seva precisió sobre el conjunt de train aplicant validació creuada amb 5 conjunts. A continuació, entrena el model sobre el conjunt de dades de train i avalua sobre test utilitzant la precisió com a mètrica ('accuracy').</div>"
   ]
  },
  {
   "cell_type": "code",
   "execution_count": null,
   "metadata": {},
   "outputs": [],
   "source": []
  },
  {
   "cell_type": "markdown",
   "metadata": {},
   "source": [
    "### 2.2.3 Stacking"
   ]
  },
  {
   "cell_type": "markdown",
   "metadata": {},
   "source": [
    "Tots els models individuals s'entrenen per separat en el conjunt complet de dades d'entrenament i s'ajusten per aconseguir més precisió. La compensació de biaix i variància es té en compte per a cada model. El model final, també conegut com a metaclassificador, s'alimenta de les etiquetes de classe predites pels models base o de les probabilitats predites per a cada etiqueta de classe. Després, el metaclassificador s'entrena en funció dels resultats donats pels models base.\n",
    "\n",
    "A l'stacking, s'entrena un nou model en funció de les prediccions realitzades pels models anteriors. Aquest procés es duu a terme de forma seqüencial. Això vol dir que diversos models s'entrenen a l'etapa 1 i s'ajusten amb precisió. Les probabilitats pronosticades de cada model de l'etapa 1 s'alimenten com a entrada a tots els models a l'etapa 2. Els models a l'etapa 2 després s'ajusten amb precisió i les sortides corresponents s'alimenten als models a l'etapa 3 i així successivament. Aquest procés es produeix diverses vegades en funció de la quantitat de capes d'apilament que voleu utilitzar.\n",
    "\n",
    "L'etapa final consisteix en un únic model que ens dóna el resultat final en combinar el resultat de tots els models presents a les capes anteriors.\n",
    "\n",
    "Sovint, l'ús de classificadors apilables augmenta la precisió de predicció dun model. Però de cap manera no es pot garantir que l'ús d'apilament augmenti la precisió de la predicció en tot moment! \n",
    "\n",
    "Fes una ullada al següent [link](http://rasbt.github.io/mlxtend/user_guide/classifier/StackingClassifier/)."
   ]
  },
  {
   "cell_type": "markdown",
   "metadata": {},
   "source": [
    "<div class=\"alert alert-block alert-info\">\n",
    "    <strong>Implementació:</strong> Construeix un classificador de tipus stacking usant un Gradient Boosting Classifier (amb 20 arbres de decisió, profunditat màxima de 3 nivells i la llavor definida a l'inici del segon exercici) que utilitzi com a atributs les prediccions fetes al conjunt de test pels algorismes: arbre de decisió, knn i svm. A continuació, calcula la precisió del model resultant amb <strong>cross-validation</strong> al conjunt de test (en aquest cas no tenim conjunt de train, amb la qual cosa es fa directament cross-validation sobre test). \n",
    "</div>\n",
    "\n",
    "<strong>Suggeriment:</strong> \n",
    "- Usar la funció `column_stack` de <strong>numpy</strong> per ajuntar totes les prediccions. \n",
    "\n",
    "Per a més informació, podeu consultar aquest enllaç:\n",
    "- [column_stack](https://docs.scipy.org/doc/numpy-1.14.0/reference/generated/numpy.column_stack.html)"
   ]
  },
  {
   "cell_type": "code",
   "execution_count": null,
   "metadata": {},
   "outputs": [],
   "source": []
  },
  {
   "cell_type": "markdown",
   "metadata": {},
   "source": [
    "<div class=\"alert alert-block alert-info\">\n",
    "    <strong>Anàlisi:</strong> Has aconseguit millorar la precisió gràcies a l'stacking? Comenta'n els resultats.\n",
    "</div>"
   ]
  },
  {
   "cell_type": "code",
   "execution_count": null,
   "metadata": {},
   "outputs": [],
   "source": []
  },
  {
   "cell_type": "markdown",
   "metadata": {},
   "source": [
    "### 2.2.4. Cascading"
   ]
  },
  {
   "cell_type": "markdown",
   "metadata": {},
   "source": [
    "El cas de cascading és semblant al de stacking, però utilitzant no només les prediccions parcials dels classificadors base, sinó també les dades originals."
   ]
  },
  {
   "cell_type": "markdown",
   "metadata": {},
   "source": [
    "<div class=\"alert alert-block alert-info\">\n",
    "    <strong>Implementació:</strong> Construeix un classificador de tipus cascading usant un Gradient Boosting Classifier (amb 20 arbres de decisió, profunditat màxima de 3 nivells i la llavor definida a l'inici del segon exercici) que utilitzi com a atributs les prediccions obtingudes amb els models anteriors al conjunt de test ( igual que amb el stacking), i també les variables originals. Calcula la precisió del model resultant amb <i>cross-validation</i> al conjunt de test.\n",
    "</div>\n",
    "\n",
    "**Suggeriment**: \n",
    "- Fes servir el mateix conjunt de dades que a l'exercici anterior però afegeix *X_test*."
   ]
  },
  {
   "cell_type": "code",
   "execution_count": null,
   "metadata": {},
   "outputs": [],
   "source": []
  },
  {
   "cell_type": "markdown",
   "metadata": {},
   "source": [
    "<div class=\"alert alert-block alert-info\">\n",
    "    <strong>Anàlisi:</strong> Heu aconseguit millorar la precisió gràcies al cascading? Comenta'n els resultats.\n",
    "</div>"
   ]
  },
  {
   "cell_type": "code",
   "execution_count": null,
   "metadata": {},
   "outputs": [],
   "source": []
  }
 ],
 "metadata": {
  "celltoolbar": "Raw Cell Format",
  "kernelspec": {
   "display_name": "Python 3 (ipykernel)",
   "language": "python",
   "name": "python3"
  },
  "language_info": {
   "codemirror_mode": {
    "name": "ipython",
    "version": 3
   },
   "file_extension": ".py",
   "mimetype": "text/x-python",
   "name": "python",
   "nbconvert_exporter": "python",
   "pygments_lexer": "ipython3",
   "version": "3.8.8"
  }
 },
 "nbformat": 4,
 "nbformat_minor": 4
}
